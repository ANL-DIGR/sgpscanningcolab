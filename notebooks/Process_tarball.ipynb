{
 "cells": [
  {
   "cell_type": "code",
   "execution_count": null,
   "metadata": {},
   "outputs": [],
   "source": [
    "import pyart\n",
    "#imports\n",
    "import os # Code for dealing with the file system\n",
    "import numpy as np\n",
    "from matplotlib import pyplot as plt\n",
    "from dask.distributed import Client, progress, metrics, LocalCluster\n",
    "from netCDF4 import num2date\n",
    "import tarfile, json, shutil\n",
    "\n",
    "from time import strftime, sleep\n",
    "\n",
    "import pwd\n",
    "import grp\n",
    "\n",
    "\n",
    "%matplotlib inline\n"
   ]
  },
  {
   "cell_type": "code",
   "execution_count": null,
   "metadata": {},
   "outputs": [],
   "source": [
    "# nexrad HAS011340903"
   ]
  },
  {
   "cell_type": "code",
   "execution_count": 2,
   "metadata": {},
   "outputs": [],
   "source": [
    "def manage_tarfile(path_and_file, \n",
    "                   experiment_location='/lustre/or-hydra/cades-arm/proj-shared/scanning_collab'):\n",
    "    def examine(fh_like):\n",
    "        \n",
    "        radar = pyart.io.read(fh_like)\n",
    "        time_start = num2date(radar.time['data'][0], radar.time['units'])\n",
    "        time_end = num2date(radar.time['data'][-1], radar.time['units'])\n",
    "        stype = radar.scan_type\n",
    "        nsweeps = radar.nsweeps\n",
    "        tgates = float(radar.ngates*radar.nrays)\n",
    "        zdat = radar.fields['reflectivity']['data']\n",
    "        z0 = float(len(np.where(zdat > 0.)[0]))/tgates\n",
    "        z10 = float(len(np.where(zdat > 10.)[0]))/tgates\n",
    "        z40 = float(len(np.where(zdat > 40.)[0]))/tgates\n",
    "        rdict = {'time_start' : time_start,\n",
    "                'time_end' : time_end,\n",
    "                 'scan_type' : stype,\n",
    "                 'nsweeps' : nsweeps,\n",
    "                 'z0' : z0,\n",
    "                 'z10' : z10,\n",
    "                 'z40' : z40,\n",
    "                'expr' : radar.metadata['sigmet_task_name'].lower().strip().decode(\"utf-8\")}\n",
    "\n",
    "        return rdict\n",
    "\n",
    "    def site_from_name(name):\n",
    "        fullname = name.split('.')[0]\n",
    "        site = fullname[-2::]\n",
    "        return site\n",
    "\n",
    "    def file_formatter(stime, site, scanmode, base, expr):\n",
    "        #base/year/monthday\n",
    "        \n",
    "        mday = stime.strftime('%m%d')\n",
    "        odir = os.path.join(base,\n",
    "                            expr.lower(),\n",
    "                            scanmode,\n",
    "                            stime.strftime('%Y'),\n",
    "                            mday)\n",
    "        fname1 = 'sgpxsapr' + scanmode + site + stime.strftime('.%Y%m%d.%H%M%S')\n",
    "        return odir, fname1\n",
    "    \n",
    "    uid = pwd.getpwnam(\"scollis\").pw_uid\n",
    "    gid = grp.getgrnam(\"users\").gr_gid\n",
    "    \n",
    "    top_level = os.path.split(experiment_location)[0]\n",
    "    tarobj = tarfile.open(path_and_file)\n",
    "    site = site_from_name(path_and_file)\n",
    "    members = tarobj.getmembers()\n",
    "    status = []\n",
    "    for member in members:\n",
    "        try:\n",
    "            radar_info = examine(tarobj.extractfile(member))\n",
    "            odir_radars, file_name_begin = file_formatter(radar_info['time_start'], \n",
    "                                                   site, \n",
    "                                                   radar_info['scan_type'],\n",
    "                                                   experiment_location,\n",
    "                                                   radar_info['expr'])\n",
    "\n",
    "            odir_json, file_name_begin = file_formatter(radar_info['time_start'], \n",
    "                                                   site, \n",
    "                                                   radar_info['scan_type'],\n",
    "                                                   os.path.join(experiment_location, 'summary'),\n",
    "                                                   radar_info['expr'])\n",
    "\n",
    "            try:\n",
    "                if not os.path.exists(odir_radars):\n",
    "                    os.makedirs(odir_radars)\n",
    "                    #os.chown(odir_radars, uid, gid)\n",
    "                    #os.chmod(odir_radars, 777)\n",
    "\n",
    "                if not os.path.exists(odir_json):\n",
    "                    os.makedirs(odir_json)\n",
    "                    #os.chown(odir_json, uid, gid)\n",
    "                    #os.chmod(odir_json, 777)\n",
    "            except: #just wait and try again..\n",
    "                sleep(1)\n",
    "                if not os.path.exists(odir_radars):\n",
    "                    os.makedirs(odir_radars)\n",
    "                    #os.chmod(odir_radars, 777)\n",
    "                    #os.chown(odir_radars, uid, gid)\n",
    "\n",
    "                if not os.path.exists(odir_json):\n",
    "                    os.makedirs(odir_json)\n",
    "                    #os.chown(odir_json, uid, gid)\n",
    "                    #os.chmod(odir_json, 777)\n",
    "\n",
    "            fullpath = os.path.join(odir_radars, file_name_begin+'.iris')\n",
    "\n",
    "            json_dict = {}\n",
    "            strconv_keys = ['z0', 'z10', 'z40', 'nsweeps']\n",
    "            for key in strconv_keys:\n",
    "                json_dict.update({key : str(radar_info[key])})\n",
    "\n",
    "            json_dict.update({'start_time' : radar_info['time_start'].strftime('%Y%m%d-%H:%M:%S'),\n",
    "                             'end_time' : radar_info['time_end'].strftime('%Y%m%d-%H:%M:%S')})\n",
    "\n",
    "            json_dict.update({'original_name' : member.name,\n",
    "                             'full_path' : fullpath})\n",
    "\n",
    "            r = json.dumps(json_dict)\n",
    "            loaded_r = json.loads(r)\n",
    "            with open(os.path.join(odir_json, file_name_begin+'.json'), 'w') as outfile:\n",
    "                json.dump(json_dict, outfile)\n",
    "            \n",
    "            #os.chown(os.path.join(odir_json, file_name_begin+'.json'), uid, gid)\n",
    "            #os.chmod(os.path.join(odir_json, file_name_begin+'.json'), 777)\n",
    "\n",
    "            #The actuall writing\n",
    "            fh = tarobj.extractfile(member)\n",
    "\n",
    "            shutil.copyfileobj(fh, open(fullpath, 'wb'))\n",
    "            fh.close()\n",
    "            #os.chown(fullpath, uid, gid)\n",
    "            #os.chmod(fullpath, 777)\n",
    "            status.append(member.name+':OK')\n",
    "        except IndexError:\n",
    "            status.append(member.name+':NotOK')\n",
    "\n",
    "        \n",
    "    return status"
   ]
  },
  {
   "cell_type": "code",
   "execution_count": 3,
   "metadata": {},
   "outputs": [],
   "source": [
    "client = Client('arm-jupyter.ornl.gov:5555')"
   ]
  },
  {
   "cell_type": "code",
   "execution_count": 4,
   "metadata": {},
   "outputs": [
    {
     "data": {
      "text/html": [
       "<table style=\"border: 2px solid white;\">\n",
       "<tr>\n",
       "<td style=\"vertical-align: top; border: 0px solid white\">\n",
       "<h3>Client</h3>\n",
       "<ul>\n",
       "  <li><b>Scheduler: </b>tcp://arm-jupyter.ornl.gov:5555\n",
       "  <li><b>Dashboard: </b><a href='http://arm-jupyter.ornl.gov:8787/status' target='_blank'>http://arm-jupyter.ornl.gov:8787/status</a>\n",
       "</ul>\n",
       "</td>\n",
       "<td style=\"vertical-align: top; border: 0px solid white\">\n",
       "<h3>Cluster</h3>\n",
       "<ul>\n",
       "  <li><b>Workers: </b>0</li>\n",
       "  <li><b>Cores: </b>0</li>\n",
       "  <li><b>Memory: </b>0 B</li>\n",
       "</ul>\n",
       "</td>\n",
       "</tr>\n",
       "</table>"
      ],
      "text/plain": [
       "<Client: scheduler='tcp://128.219.186.46:5555' processes=0 cores=0>"
      ]
     },
     "execution_count": 4,
     "metadata": {},
     "output_type": "execute_result"
    }
   ],
   "source": [
    "client"
   ]
  },
  {
   "cell_type": "code",
   "execution_count": 5,
   "metadata": {},
   "outputs": [],
   "source": [
    "experiment_dir = '/lustre/or-hydra/cades-arm/proj-shared/scanning4/'\n",
    "stage_dir = '/lustre/or-hydra/cades-arm/proj-shared/data_transfer/sgp/'\n",
    "formatted_subdir = 'formatted'\n",
    "unformatted_subdir = 'sgpxsaprsecI5.00'\n",
    "\n",
    "unformatted_dir = os.path.join(stage_dir, unformatted_subdir)\n",
    "formatted_dir = os.path.join(experiment_dir, formatted_subdir)\n",
    "\n",
    "all_files = os.listdir(unformatted_dir)\n",
    "all_fqdn = [os.path.join(unformatted_dir, this_file) for this_file in all_files]"
   ]
  },
  {
   "cell_type": "code",
   "execution_count": 6,
   "metadata": {},
   "outputs": [],
   "source": [
    "future = client.map(manage_tarfile, all_fqdn)"
   ]
  },
  {
   "cell_type": "code",
   "execution_count": 7,
   "metadata": {},
   "outputs": [
    {
     "data": {
      "application/vnd.jupyter.widget-view+json": {
       "model_id": "d7673029dcea408f92fe3257317ed0cd",
       "version_major": 2,
       "version_minor": 0
      },
      "text/plain": [
       "VBox()"
      ]
     },
     "metadata": {},
     "output_type": "display_data"
    }
   ],
   "source": [
    "progress(future)"
   ]
  },
  {
   "cell_type": "code",
   "execution_count": 153,
   "metadata": {},
   "outputs": [],
   "source": [
    "my_data = client.gather(future)"
   ]
  },
  {
   "cell_type": "code",
   "execution_count": 154,
   "metadata": {},
   "outputs": [
    {
     "name": "stdout",
     "output_type": "stream",
     "text": [
      "3686\n",
      "3686\n",
      "0\n"
     ]
    }
   ],
   "source": [
    "my_data = client.gather(future)\n",
    "flat_list = [item for sublist in my_data for item in sublist]\n",
    "print(len(flat_list))\n",
    "succeeded = 0\n",
    "failed = 0\n",
    "ff = []\n",
    "SE_good = []\n",
    "for item in flat_list:\n",
    "    if 'NotOK' in item:\n",
    "        failed +=  1\n",
    "        ff.append(item)\n",
    "    else:\n",
    "        succeeded += 1\n",
    "        if 'XSE'in item:\n",
    "            SE_good.append(item)\n",
    "\n",
    "print(succeeded)\n",
    "print(failed)"
   ]
  },
  {
   "cell_type": "code",
   "execution_count": null,
   "metadata": {},
   "outputs": [],
   "source": []
  }
 ],
 "metadata": {
  "kernelspec": {
   "display_name": "Python [conda env:anaconda3-daskenv]",
   "language": "python",
   "name": "conda-env-anaconda3-daskenv-py"
  },
  "language_info": {
   "codemirror_mode": {
    "name": "ipython",
    "version": 3
   },
   "file_extension": ".py",
   "mimetype": "text/x-python",
   "name": "python",
   "nbconvert_exporter": "python",
   "pygments_lexer": "ipython3",
   "version": "3.6.7"
  }
 },
 "nbformat": 4,
 "nbformat_minor": 2
}
